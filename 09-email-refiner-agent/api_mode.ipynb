{
 "cells": [
  {
   "cell_type": "code",
   "execution_count": 3,
   "id": "f2ed686c",
   "metadata": {},
   "outputs": [],
   "source": [
    "import requests\n",
    "\n",
    "BASE_URL = \"http://127.0.0.1:8000\"\n",
    "APP_NAME = \"travel_advisor_agent\"\n",
    "USER_ID = \"user_1\"\n",
    "SESSION_ID = \"1cd92630-84ad-4bff-8167-292778ec7f71\"\n"
   ]
  },
  {
   "cell_type": "code",
   "execution_count": 2,
   "id": "d2742525",
   "metadata": {},
   "outputs": [
    {
     "name": "stdout",
     "output_type": "stream",
     "text": [
      "{'id': '1cd92630-84ad-4bff-8167-292778ec7f71', 'appName': 'travel_advisor_agent', 'userId': 'user_1', 'state': {}, 'events': [], 'lastUpdateTime': 1760255593.9010634}\n"
     ]
    }
   ],
   "source": [
    "response = requests.post(f\"{BASE_URL}/apps/{APP_NAME}/users/{USER_ID}/sessions\")\n",
    "\n",
    "print(response.json())"
   ]
  },
  {
   "cell_type": "code",
   "execution_count": null,
   "id": "00ace893",
   "metadata": {},
   "outputs": [
    {
     "name": "stdout",
     "output_type": "stream",
     "text": [
      "[{'content': {'parts': [{'functionCall': {'id': 'call_XknnAB7LsJOlKcUSH2N9Hl5U', 'args': {'location': '도쿄'}, 'name': 'get_weather'}}, {'functionCall': {'id': 'call_wjbW4ICzPbsC86cv82VaL6Hv', 'args': {'location': '도쿄', 'category': 'all'}, 'name': 'get_local_attractions'}}], 'role': 'model'}, 'partial': False, 'usageMetadata': {'candidatesTokenCount': 54, 'promptTokenCount': 533, 'totalTokenCount': 587}, 'invocationId': 'e-7dcfd606-5b67-4a0b-8bae-a6d4fe497772', 'author': 'TravelAdvisorAgent', 'actions': {'stateDelta': {}, 'artifactDelta': {}, 'requestedAuthConfigs': {}, 'requestedToolConfirmations': {}}, 'longRunningToolIds': [], 'id': '564b922a-fdea-4439-9730-66ce8cccd784', 'timestamp': 1760256181.565104}, {'content': {'parts': [{'functionResponse': {'id': 'call_XknnAB7LsJOlKcUSH2N9Hl5U', 'name': 'get_weather', 'response': {'location': '도쿄', 'temperature': '22°C', 'condition': 'Partly cloudy', 'humidity': '65%', 'wind': '12 km/h', 'forecast': 'Mild weather with occasional clouds expected throughout the day'}}}, {'functionResponse': {'id': 'call_wjbW4ICzPbsC86cv82VaL6Hv', 'name': 'get_local_attractions', 'response': {'location': '도쿄', 'category': 'all', 'attractions': [{'name': 'City Center', 'type': 'area', 'rating': 4.2, 'description': 'Main downtown area'}, {'name': 'Historical Museum', 'type': 'museum', 'rating': 4.3, 'description': 'Local history and culture'}, {'name': 'Central Park', 'type': 'park', 'rating': 4.1, 'description': 'Main public park'}, {'name': 'Old Town', 'type': 'district', 'rating': 4.4, 'description': 'Historic district with traditional architecture'}, {'name': 'Local Market', 'type': 'market', 'rating': 4.0, 'description': 'Traditional local marketplace'}], 'total_count': 5}}}], 'role': 'user'}, 'invocationId': 'e-7dcfd606-5b67-4a0b-8bae-a6d4fe497772', 'author': 'TravelAdvisorAgent', 'actions': {'stateDelta': {}, 'artifactDelta': {}, 'requestedAuthConfigs': {}, 'requestedToolConfirmations': {}}, 'id': 'e4fea6c3-3488-41f1-a440-ee4e30fa8455', 'timestamp': 1760256183.209692}, {'content': {'parts': [{'text': '도쿄 여행을 계획하시는 데 도움이 될 정보를 준비했습니다.\\n\\n### 현재 날씨\\n- **기온**: 22°C\\n- **날씨 상태**: 구름 조금 있음\\n- **습도**: 65%\\n- **바람**: 12 km/h\\n- **예보**: 하루 종일 간헐적인 구름과 함께 온화한 날씨가 예상됩니다.\\n\\n### 도쿄의 인기 명소\\n1. **시내 중심지** (지역)\\n   - **평점**: 4.2\\n   - **설명**: 주 도심지\\n\\n2. **역사 박물관** (박물관)\\n   - **평점**: 4.3\\n   - **설명**: 지역 역사를 중심으로 한 박물관\\n\\n3. **중앙 공원** (공원)\\n   - **평점**: 4.1\\n   - **설명**: 주요 공원\\n\\n4. **구시가지** (지역)\\n   - **평점**: 4.4\\n   - **설명**: 전통 건축물이 있는 역사적인 거리\\n\\n5. **지역 시장** (시장)\\n   - **평점**: 4.0\\n   - **설명**: 전통적인 지역 시장\\n\\n이 정보들이 도쿄 여행 계획에 도움이 되시길 바랍니다! 더 궁금한 것이 있거나 다른 도움이 필요하시면 언제든지 말씀해 주세요.'}], 'role': 'model'}, 'partial': False, 'usageMetadata': {'candidatesTokenCount': 318, 'promptTokenCount': 836, 'totalTokenCount': 1154}, 'invocationId': 'e-7dcfd606-5b67-4a0b-8bae-a6d4fe497772', 'author': 'TravelAdvisorAgent', 'actions': {'stateDelta': {}, 'artifactDelta': {}, 'requestedAuthConfigs': {}, 'requestedToolConfirmations': {}}, 'id': '3805ed30-99d3-4d85-b83d-975cde86e933', 'timestamp': 1760256183.211226}]\n"
     ]
    }
   ],
   "source": [
    "message = {\n",
    "    \"appName\": APP_NAME,\n",
    "    \"userId\": USER_ID,\n",
    "    \"sessionId\": SESSION_ID,\n",
    "    \"newMessage\":{\n",
    "        \"parts\" : [\n",
    "            {\n",
    "                \"text\" : \"환율을 알고싶어요\"\n",
    "            }\n",
    "        ],\n",
    "        \"role\" : \"user\",\n",
    "    }\n",
    "}\n",
    "response = requests.post(\n",
    "    f\"{BASE_URL}/run\",\n",
    "    json=message,\n",
    ")\n",
    "\n",
    "print(response.json())\n"
   ]
  },
  {
   "cell_type": "code",
   "execution_count": 10,
   "id": "4b114b7b",
   "metadata": {},
   "outputs": [
    {
     "name": "stdout",
     "output_type": "stream",
     "text": [
      "get_weather\n",
      "get_local_attractions\n",
      "============================================================\n",
      "============================================================\n",
      "도쿄 여행을 계획하시는 데 도움이 될 정보를 준비했습니다.\n",
      "\n",
      "### 현재 날씨\n",
      "- **기온**: 22°C\n",
      "- **날씨 상태**: 구름 조금 있음\n",
      "- **습도**: 65%\n",
      "- **바람**: 12 km/h\n",
      "- **예보**: 하루 종일 간헐적인 구름과 함께 온화한 날씨가 예상됩니다.\n",
      "\n",
      "### 도쿄의 인기 명소\n",
      "1. **시내 중심지** (지역)\n",
      "   - **평점**: 4.2\n",
      "   - **설명**: 주 도심지\n",
      "\n",
      "2. **역사 박물관** (박물관)\n",
      "   - **평점**: 4.3\n",
      "   - **설명**: 지역 역사를 중심으로 한 박물관\n",
      "\n",
      "3. **중앙 공원** (공원)\n",
      "   - **평점**: 4.1\n",
      "   - **설명**: 주요 공원\n",
      "\n",
      "4. **구시가지** (지역)\n",
      "   - **평점**: 4.4\n",
      "   - **설명**: 전통 건축물이 있는 역사적인 거리\n",
      "\n",
      "5. **지역 시장** (시장)\n",
      "   - **평점**: 4.0\n",
      "   - **설명**: 전통적인 지역 시장\n",
      "\n",
      "이 정보들이 도쿄 여행 계획에 도움이 되시길 바랍니다! 더 궁금한 것이 있거나 다른 도움이 필요하시면 언제든지 말씀해 주세요.\n",
      "============================================================\n"
     ]
    }
   ],
   "source": [
    "data = response.json()\n",
    "\n",
    "for event in data:\n",
    "    content = event.get(\"content\")\n",
    "    parts = content.get(\"parts\")\n",
    "    for part in parts:\n",
    "        functionCall = part.get(\"functionCall\", None)\n",
    "        if functionCall:            \n",
    "            print(functionCall.get(\"name\"))\n",
    "        text = part.get(\"text\", None)\n",
    "        if text:\n",
    "            print(text)\n",
    "        \n",
    "    print(\"=\" * 60)"
   ]
  }
 ],
 "metadata": {
  "kernelspec": {
   "display_name": ".venv",
   "language": "python",
   "name": "python3"
  },
  "language_info": {
   "codemirror_mode": {
    "name": "ipython",
    "version": 3
   },
   "file_extension": ".py",
   "mimetype": "text/x-python",
   "name": "python",
   "nbconvert_exporter": "python",
   "pygments_lexer": "ipython3",
   "version": "3.13.7"
  }
 },
 "nbformat": 4,
 "nbformat_minor": 5
}

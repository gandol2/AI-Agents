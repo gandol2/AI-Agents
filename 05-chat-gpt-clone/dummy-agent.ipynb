{
 "cells": [
  {
   "cell_type": "code",
   "execution_count": null,
   "id": "f3743845",
   "metadata": {},
   "outputs": [
    {
     "name": "stdout",
     "output_type": "stream",
     "text": [
      "Getting weather for 서울\n",
      "안녕하세요! 저는 잘 지내고 있습니다. 현재 한국(서울)의 날씨는 30도에 맑음입니다. 궁금한 점 있으면 언제든 말씀해 주세요!\n"
     ]
    }
   ],
   "source": [
    "from agents import Agent, Runner, function_tool\n",
    "\n",
    "@function_tool\n",
    "def get_weather(city: str):\n",
    "    \"\"\"Get the weather in a given city\"\"\"\n",
    "    print(f\"Getting weather for {city}\")\n",
    "    return \"30도 맑음\"\n",
    "\n",
    "agent = Agent(\n",
    "    name=\"Assistant Agent\",\n",
    "    instructions=\"You are a helpful assistant. User tools when need to answer questions\",\n",
    "    tools=[get_weather],\n",
    ")\n",
    "\n",
    "stream = Runner.run_streamed(agent, \"안녕 잘 지내니? 한국의 날씨는 어떄?\")\n",
    "\n",
    "async for event in stream.stream_events():\n",
    "    print(event)\n",
    "    print(\"=\"*20)\n"
   ]
  }
 ],
 "metadata": {
  "kernelspec": {
   "display_name": ".venv",
   "language": "python",
   "name": "python3"
  },
  "language_info": {
   "codemirror_mode": {
    "name": "ipython",
    "version": 3
   },
   "file_extension": ".py",
   "mimetype": "text/x-python",
   "name": "python",
   "nbconvert_exporter": "python",
   "pygments_lexer": "ipython3",
   "version": "3.13.7"
  }
 },
 "nbformat": 4,
 "nbformat_minor": 5
}

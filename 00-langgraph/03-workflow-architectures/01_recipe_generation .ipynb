{
 "cells": [
  {
   "cell_type": "code",
   "execution_count": 1,
   "id": "d37650d0",
   "metadata": {},
   "outputs": [],
   "source": [
    "from typing_extensions import TypedDict\n",
    "from typing import List\n",
    "from langgraph.graph import StateGraph, START, END\n",
    "from langchain.chat_models import init_chat_model\n",
    "from pydantic import BaseModel\n",
    "\n",
    "llm = init_chat_model(\"openai:gpt-4o\")\n",
    "\n",
    "\n",
    "def wrap_prompt(prompt:str):\n",
    "    PROMPT_LANG = \"\\nAnswer only in fluent and natural Korean, no matter the input language.\"\n",
    "    return f\"{prompt} {PROMPT_LANG}\"\n"
   ]
  },
  {
   "cell_type": "code",
   "execution_count": null,
   "id": "b007de45",
   "metadata": {},
   "outputs": [],
   "source": [
    "class State(TypedDict):\n",
    "\n",
    "    dish: str\n",
    "    dish_name: str\n",
    "    ingredients: list[dict]\n",
    "    recipe_steps: str\n",
    "    plating_instructions: str\n",
    "\n",
    "class Ingredient(BaseModel):\n",
    "    name: str\n",
    "    quantity: str\n",
    "    unit: str\n",
    "\n",
    "class IngredientsOutput(BaseModel):\n",
    "    ingredients: List[Ingredient]\n",
    "\n"
   ]
  },
  {
   "cell_type": "code",
   "execution_count": 3,
   "id": "19cdb470",
   "metadata": {},
   "outputs": [],
   "source": [
    "# nodes\n",
    "\n",
    "def list_ingredients(state:State):\n",
    "    structured_llm = llm.with_structured_output(IngredientsOutput)      # llm의 출력 포멧을 지정\n",
    "    response = structured_llm.invoke(wrap_prompt(f\"List 3-6 ingredients needed to make {state['dish']}\"))\n",
    "\n",
    "    \n",
    "    return {\n",
    "        \"ingredients\": response.ingredients\n",
    "        }\n",
    "\n",
    "def create_recipe(state:State):\n",
    "    response = llm.invoke(wrap_prompt(f\"Write a step by step cooking instruction for {state['dish']}, using these ingredients: {state['ingredients']}\"))\n",
    "    return {\n",
    "        \"recipe_steps\": response.content\n",
    "    }\n",
    "\n",
    "def describe_plating(state:State):\n",
    "    response = llm.invoke(wrap_prompt(f\"Describe how to beautifully plate {state['dish']} based on this recipe: {state['recipe_steps']}\"))\n",
    "    return {\n",
    "        \"plating_instructions\": response.content\n",
    "    }\n",
    "\n",
    "def gate(state:State):\n",
    "    ingredients = state[\"ingredients\"]\n",
    "    if len(ingredients) > 6 or len(ingredients) < 3:\n",
    "        return False\n",
    "    else:\n",
    "        return True\n",
    "\n",
    "def create_dish_name(state:State):\n",
    "    response = llm.invoke(wrap_prompt(f\"당신은 요리 이름을 추천해주는 전문가 입니다. 요리의 이름은 직관적이고 사람들이 부르기 쉬워야 하며 너무 길지 않아야 합니다. 주어진 정보를 기반으로 창의적인 이름을 제안해주세요. 주어진 정보는 다음과 같습니다. 요리 이름: {state['dish']}, 요리 재료: {state['ingredients']}, 요리 조리 방법: {state['recipe_steps']}, 요리 그릇 배치 방법: {state['plating_instructions']}\"))\n",
    "    return {\n",
    "        \"dish_name\": response.content\n",
    "    }\n",
    "\n"
   ]
  },
  {
   "cell_type": "code",
   "execution_count": 4,
   "id": "05ffd42a",
   "metadata": {},
   "outputs": [
    {
     "data": {
      "image/png": "[encoded data removed]",
      "text/plain": [
       "<langgraph.graph.state.CompiledStateGraph object at 0x780d05cf2120>"
      ]
     },
     "execution_count": 4,
     "metadata": {},
     "output_type": "execute_result"
    }
   ],
   "source": [
    "graph_builder = StateGraph(State)\n",
    "\n",
    "graph_builder.add_node(\"list_ingredients\", list_ingredients)\n",
    "graph_builder.add_node(\"create_recipe\", create_recipe)\n",
    "graph_builder.add_node(\"describe_plating\", describe_plating)\n",
    "graph_builder.add_node(\"create_dish_name\", create_dish_name)\n",
    "\n",
    "graph_builder.add_edge(START, \"list_ingredients\")\n",
    "graph_builder.add_conditional_edges(\n",
    "    \"list_ingredients\",\n",
    "    gate,\n",
    "    {\n",
    "        True: \"create_recipe\",\n",
    "        False: \"list_ingredients\"\n",
    "    }\n",
    ")\n",
    "graph_builder.add_edge(\"create_recipe\", \"describe_plating\")\n",
    "graph_builder.add_edge(\"describe_plating\", \"create_dish_name\")\n",
    "graph_builder.add_edge(\"create_dish_name\", END)\n",
    "\n",
    "graph = graph_builder.compile()\n",
    "\n",
    "graph"
   ]
  },
  {
   "cell_type": "code",
   "execution_count": 5,
   "id": "2b87848d",
   "metadata": {},
   "outputs": [],
   "source": [
    "result = graph.invoke(\n",
    "    {\n",
    "        \"dish\": \"자취생 한끼 식사용 간단한 조리법을 가진 고단백 요리\",        \n",
    "    }\n",
    ")\n"
   ]
  },
  {
   "cell_type": "code",
   "execution_count": 6,
   "id": "f89a6660",
   "metadata": {},
   "outputs": [
    {
     "data": {
      "text/plain": [
       "{'dish': '자취생 한끼 식사용 간단한 조리법을 가진 고단백 요리',\n",
       " 'dish_name': '이 요리는 자취생을 위한 간단하고 고단백인 요리라는 점을 고려하여 이름을 지어보겠습니다. \"단백한끼 스파게티\"는 어떨까요? \"단백한끼\"라는 이름은 \\'단백질 가득한 한 끼\\'라는 의미를 담고 있어, 요리의 특징을 잘 나타내며 부르기도 쉽습니다.',\n",
       " 'ingredients': [Ingredient(name='닭가슴살', quantity='2', unit='조각'),\n",
       "  Ingredient(name='달걀', quantity='2', unit='개'),\n",
       "  Ingredient(name='양파', quantity='1', unit='개'),\n",
       "  Ingredient(name='마늘', quantity='3', unit='쪽'),\n",
       "  Ingredient(name='스파게티 국수', quantity='200', unit='그램'),\n",
       "  Ingredient(name='올리브유', quantity='2', unit='큰술')],\n",
       " 'recipe_steps': '자취생을 위한 간단하고 고단백인 닭가슴살 스파게티 조리법을 소개하겠습니다. 다음 단계를 따라 만들어 보세요.\\n\\n1. **재료 준비하기**  \\n   - 닭가슴살 2조각을 먹기 좋은 크기로 깍둑썰기 합니다.\\n   - 양파 1개는 얇게 채썰고, 마늘 3쪽은 다집니다.\\n   - 달걀 2개는 미리 깨서 풀어 놓습니다.\\n\\n2. **스파게티 삶기**  \\n   - 냄비에 물을 가득 채우고 소금을 적당량 넣은 후, 물이 끓으면 스파게티 국수 200그램을 넣고 8~10분간 삶습니다.\\n   - 국수를 삶는 동안 중간에 저어주어 달라붙지 않도록 합니다.\\n   - 국수가 다 삶아지면 찬물에 헹구어 체에 받쳐 놓습니다.\\n\\n3. **닭가슴살 익히기**  \\n   - 큰 팬에 올리브유 1큰술을 두르고 중간 불로 달군 후, 닭가슴살을 넣어 익힙니다.\\n   - 닭가슴살이 겉이 노릇노릇해질 때까지 약 5분 정도 익힙니다.\\n\\n4. **양파와 마늘 볶기**  \\n   - 닭가슴살이 익은 팬에 채썬 양파와 다진 마늘을 넣고 함께 볶습니다.\\n   - 양파가 투명해질 때까지 약 3분간 볶습니다.\\n\\n5. **달걀 추가하기**  \\n   - 볶은 재료들에 풀어 놓은 달걀을 부어 스크램블 에그 식으로 잘 저으며 익힙니다.\\n\\n6. **스파게티와 재료 섞기**  \\n   - 삶아 놓은 스파게티를 팬에 넣고 모든 재료가 잘 섞이도록 고루 볶아줍니다.\\n   - 간이 필요하면 소금과 후추로 맛을 조절합니다.\\n\\n7. **마무리 및 서빙하기**  \\n   - 모든 재료가 잘 어우러지면 불을 끄고 접시에 담아 줍니다.\\n   - 기호에 맞게 파슬리 가루나 파마산 치즈를 뿌려주면 더욱 맛있습니다.\\n\\n이렇게 해서 간단하면서도 영양가 높은 용기의 닭가슴살 스파게티가 완성되었습니다. 맛있게 드세요!',\n",
       " 'plating_instructions': '자취생을 위한 고단백 닭가슴살 스파게티를 아름답게 플레이팅하는 방법을 설명드리겠습니다.\\n\\n1. **접시 선택하기**  \\n   - 넓고 평평한 흰색 접시를 선택하여 요리의 색상이 돋보이게 합니다.\\n\\n2. **스파게티 배치하기**  \\n   - 스파게티를 중앙에 둥글게 배치하면서 높은 피라미드 형태로 쌓아 올립니다. 포크를 사용해 감아 올리면 예쁘게 모양을 만들 수 있습니다.\\n\\n3. **재료 배열하기**  \\n   - 익힌 닭가슴살 조각을 스파게티 위에 올리거나 주변에 산뜻하게 배치합니다.\\n   - 채썬 양파와 스크램블 에그도 고루고루 올려주어 컬러풀함을 더합니다.\\n\\n4. **장식하기**  \\n   - 다진 파슬리나 파마산 치즈를 적당량 뿌려 색감을 강조합니다.\\n   - 필요에 따라 방울토마토 반쪽이나 레몬 슬라이스를 추가해 더욱 상큼한 느낌을 줄 수 있습니다.\\n\\n5. **마무리 터치**  \\n   - 올리브유를 살짝 뿌려 윤기를 더합니다.\\n   - 후추를 약간 갈아 고소한 풍미를 더해줍니다.\\n\\n이렇게 플레이팅 하면 간단하면서도 정성스럽게 차려진 느낌이 드는 닭가슴살 스파게티가 완성됩니다. 맛있게 드세요!',\n",
       " 'token_usage': {'input_tokens': 0, 'output_tokens': 0, 'total_tokens': 0},\n",
       " 'token_logs': []}"
      ]
     },
     "execution_count": 6,
     "metadata": {},
     "output_type": "execute_result"
    }
   ],
   "source": [
    "result"
   ]
  },
  {
   "cell_type": "code",
   "execution_count": null,
   "id": "aaeae8ea",
   "metadata": {},
   "outputs": [],
   "source": []
  },
  {
   "cell_type": "code",
   "execution_count": null,
   "id": "d83c6876",
   "metadata": {},
   "outputs": [],
   "source": []
  }
 ],
 "metadata": {
  "kernelspec": {
   "display_name": ".venv",
   "language": "python",
   "name": "python3"
  },
  "language_info": {
   "codemirror_mode": {
    "name": "ipython",
    "version": 3
   },
   "file_extension": ".py",
   "mimetype": "text/x-python",
   "name": "python",
   "nbconvert_exporter": "python",
   "pygments_lexer": "ipython3",
   "version": "3.13.7"
  }
 },
 "nbformat": 4,
 "nbformat_minor": 5
}

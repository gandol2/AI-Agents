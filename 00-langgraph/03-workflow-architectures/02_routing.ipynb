{
 "cells": [
  {
   "cell_type": "code",
   "execution_count": null,
   "id": "d37650d0",
   "metadata": {},
   "outputs": [],
   "source": [
    "#https://www.anthropic.com/engineering/building-effective-agents #워크플로: 라우팅\n",
    "\n",
    "from typing_extensions import TypedDict, Literal\n",
    "from typing import List\n",
    "from langgraph.graph import StateGraph, START, END\n",
    "from langchain.chat_models import init_chat_model\n",
    "from langgraph.types import Command\n",
    "from pydantic import BaseModel\n",
    "\n",
    "llm = init_chat_model(\"openai:gpt-4o\")\n",
    "\n",
    "dumb_llm = init_chat_model(\"openai:gpt-4o-mini\")\n",
    "average_llm = init_chat_model(\"openai:gpt-3.5-turbo\")\n",
    "smart_llm = init_chat_model(\"openai:gpt-4o\")\n",
    "\n",
    "def wrap_prompt(prompt:str):\n",
    "    PROMPT_LANG = \"\\nAnswer only in fluent and natural Korean, no matter the input language.\"\n",
    "    return f\"{prompt} {PROMPT_LANG}\"\n"
   ]
  },
  {
   "cell_type": "code",
   "execution_count": 2,
   "id": "b007de45",
   "metadata": {},
   "outputs": [],
   "source": [
    "class State(TypedDict):\n",
    "\n",
    "    question: str\n",
    "    difficulty: str\n",
    "    answer: str\n",
    "    model_used: str\n",
    "\n",
    "class DifficultyResponse(BaseModel):\n",
    "    difficulty_level: Literal[\"easy\", \"medium\", \"hard\"]\n"
   ]
  },
  {
   "cell_type": "code",
   "execution_count": 3,
   "id": "19cdb470",
   "metadata": {},
   "outputs": [],
   "source": [
    "# nodes\n",
    "\n",
    "\n",
    "\n",
    "\n",
    "def dumb_node(state:State):\n",
    "    response = dumb_llm.invoke(state[\"question\"])\n",
    "    return {\n",
    "        \"answer\": response.content,\n",
    "        \"model_used\": \"dumb_llm (gpt-4o-mini)\",\n",
    "    }\n",
    "\n",
    "def average_node(state:State):\n",
    "    response = average_llm.invoke(state[\"question\"])\n",
    "    return {\n",
    "        \"answer\": response.content,\n",
    "        \"model_used\": \"average_llm (gpt-3.5-turbo)\",\n",
    "\n",
    "    }\n",
    "\n",
    "def smart_node(state:State):\n",
    "    response = smart_llm.invoke(state[\"question\"])\n",
    "    return {\n",
    "        \"answer\": response.content,\n",
    "        \"model_used\": \"smart_llm (gpt-4o)\",\n",
    "\n",
    "    }\n",
    "\n",
    "def assess_difficulty(state:State):\n",
    "    structured_llm = llm.with_structured_output(DifficultyResponse)\n",
    "\n",
    "    response = structured_llm.invoke(wrap_prompt(f\"\"\"\n",
    "                                                    이질문의 난이도를 평가해주세요.\n",
    "                                                    질문: {state['question']}\n",
    "\n",
    "                                                    - EASY : 간단한 사실, 기본정의, 예/아니오에 해당하는 질문\n",
    "                                                    - MEDIUM : 설명, 비교, 분석\n",
    "                                                    - HARD : 여러 단계와 깊은 전문성이 필요한 질문        \n",
    "                                                \"\"\"))\n",
    "    difficulty_level = response.difficulty_level\n",
    "\n",
    "    if difficulty_level == \"easy\":\n",
    "        goto = \"dumb_node\"\n",
    "    elif difficulty_level == \"medium\":\n",
    "        goto = \"average_node\"\n",
    "    elif difficulty_level == \"hard\":\n",
    "        goto = \"smart_node\"\n",
    "        \n",
    "    return Command(goto=goto, update={ \"difficulty\" : difficulty_level})\n",
    "    \n",
    "        "
   ]
  },
  {
   "cell_type": "code",
   "execution_count": 4,
   "id": "05ffd42a",
   "metadata": {},
   "outputs": [
    {
     "data": {
      "image/png": "[encoded data removed]",
      "text/plain": [
       "<langgraph.graph.state.CompiledStateGraph object at 0x7909db2ba120>"
      ]
     },
     "execution_count": 4,
     "metadata": {},
     "output_type": "execute_result"
    }
   ],
   "source": [
    "graph_builder = StateGraph(State)\n",
    "\n",
    "graph_builder.add_node(\"dumb_node\", dumb_node)\n",
    "graph_builder.add_node(\"average_node\", average_node)\n",
    "graph_builder.add_node(\"smart_node\", smart_node)\n",
    "graph_builder.add_node(\"assess_difficulty\", assess_difficulty, destinations=(\"dumb_node\", \"average_node\", \"smart_node\"))\n",
    "\n",
    "graph_builder.add_edge(START, \"assess_difficulty\")\n",
    "graph_builder.add_edge(\"dumb_node\", END)\n",
    "graph_builder.add_edge(\"average_node\", END)\n",
    "graph_builder.add_edge(\"assess_difficulty\", END)\n",
    "\n",
    "graph = graph_builder.compile()\n",
    "\n",
    "graph"
   ]
  },
  {
   "cell_type": "code",
   "execution_count": 5,
   "id": "ecf8daf5",
   "metadata": {},
   "outputs": [
    {
     "data": {
      "text/plain": [
       "{'question': '한국의 수도는?',\n",
       " 'difficulty': 'easy',\n",
       " 'answer': '한국의 수도는 서울입니다.',\n",
       " 'model_used': 'dumb_llm (gpt-4o-mini)'}"
      ]
     },
     "execution_count": 5,
     "metadata": {},
     "output_type": "execute_result"
    }
   ],
   "source": [
    "graph.invoke({\"question\": \"한국의 수도는?\"})"
   ]
  }
 ],
 "metadata": {
  "kernelspec": {
   "display_name": ".venv",
   "language": "python",
   "name": "python3"
  },
  "language_info": {
   "codemirror_mode": {
    "name": "ipython",
    "version": 3
   },
   "file_extension": ".py",
   "mimetype": "text/x-python",
   "name": "python",
   "nbconvert_exporter": "python",
   "pygments_lexer": "ipython3",
   "version": "3.13.7"
  }
 },
 "nbformat": 4,
 "nbformat_minor": 5
}

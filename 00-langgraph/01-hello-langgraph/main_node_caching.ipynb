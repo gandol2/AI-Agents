{
 "cells": [
  {
   "cell_type": "code",
   "execution_count": 1,
   "id": "6bf483cb",
   "metadata": {},
   "outputs": [],
   "source": [
    "from langgraph.graph import StateGraph, START, END\n",
    "from typing_extensions import TypedDict\n",
    "from langgraph.types import CachePolicy\n",
    "from langgraph.cache.memory import InMemoryCache\n",
    "from datetime import datetime"
   ]
  },
  {
   "cell_type": "code",
   "execution_count": 2,
   "id": "d5126002",
   "metadata": {},
   "outputs": [],
   "source": [
    "class State(TypedDict):\n",
    "    time: str\n",
    "\n",
    "graph_builder = StateGraph(State)"
   ]
  },
  {
   "cell_type": "code",
   "execution_count": 3,
   "id": "cd34c6ac",
   "metadata": {},
   "outputs": [],
   "source": [
    "def node_1(state: State):\n",
    "    # print(\"node_1 : \" , state)\n",
    "    return {\n",
    "    }\n",
    "\n",
    "def node_2(state: State):\n",
    "    print(\"node_2 : \" , state)\n",
    "    return {\n",
    "        \"time\" : f\"{datetime.now()}\"\n",
    "    }\n",
    "\n",
    "def node_3(state: State):\n",
    "    print(\"node_3 : \" , state)\n",
    "    return {\n",
    "    }\n"
   ]
  },
  {
   "cell_type": "code",
   "execution_count": 4,
   "id": "9ad2cc8e",
   "metadata": {},
   "outputs": [
    {
     "data": {
      "text/plain": [
       "<langgraph.graph.state.StateGraph at 0x7fe57d1d86e0>"
      ]
     },
     "execution_count": 4,
     "metadata": {},
     "output_type": "execute_result"
    }
   ],
   "source": [
    "graph_builder.add_node(\"node_1\", node_1)\n",
    "graph_builder.add_node(\"node_2\", node_2, cache_policy=CachePolicy(ttl=20))\n",
    "graph_builder.add_node(\"node_3\", node_3)\n",
    "\n",
    "\n",
    "graph_builder.add_edge(START, \"node_1\")\n",
    "graph_builder.add_edge(\"node_1\", \"node_2\")\n",
    "graph_builder.add_edge(\"node_2\", \"node_3\")\n",
    "graph_builder.add_edge(\"node_3\", END)\n",
    "\n",
    "\n",
    "\n",
    "\n",
    "\n",
    "# graph.invoke({\"hello\": \"world\"})\n",
    "\n",
    "\n"
   ]
  },
  {
   "cell_type": "code",
   "execution_count": 5,
   "id": "260208cb",
   "metadata": {},
   "outputs": [
    {
     "name": "stdout",
     "output_type": "stream",
     "text": [
      "node_2 :  {}\n",
      "node_3 :  {'time': '2025-10-12 20:01:55.827657'}\n",
      "{'time': '2025-10-12 20:01:55.827657'}\n",
      "node_3 :  {'time': '2025-10-12 20:01:55.827657'}\n",
      "{'time': '2025-10-12 20:01:55.827657'}\n",
      "node_3 :  {'time': '2025-10-12 20:01:55.827657'}\n",
      "{'time': '2025-10-12 20:01:55.827657'}\n",
      "node_3 :  {'time': '2025-10-12 20:01:55.827657'}\n",
      "{'time': '2025-10-12 20:01:55.827657'}\n",
      "node_2 :  {}\n",
      "node_3 :  {'time': '2025-10-12 20:02:15.837716'}\n",
      "{'time': '2025-10-12 20:02:15.837716'}\n",
      "node_3 :  {'time': '2025-10-12 20:02:15.837716'}\n",
      "{'time': '2025-10-12 20:02:15.837716'}\n",
      "node_3 :  {'time': '2025-10-12 20:02:15.837716'}\n",
      "{'time': '2025-10-12 20:02:15.837716'}\n"
     ]
    }
   ],
   "source": [
    "import time\n",
    "\n",
    "graph = graph_builder.compile(cache=InMemoryCache())\n",
    "\n",
    "print(graph.invoke({}))\n",
    "time.sleep(5)\n",
    "print(graph.invoke({}))\n",
    "time.sleep(5)\n",
    "print(graph.invoke({}))\n",
    "time.sleep(5)\n",
    "print(graph.invoke({}))\n",
    "time.sleep(5)\n",
    "print(graph.invoke({}))\n",
    "time.sleep(5)\n",
    "print(graph.invoke({}))\n",
    "time.sleep(5)\n",
    "print(graph.invoke({}))\n",
    "time.sleep(5)\n"
   ]
  }
 ],
 "metadata": {
  "kernelspec": {
   "display_name": ".venv",
   "language": "python",
   "name": "python3"
  },
  "language_info": {
   "codemirror_mode": {
    "name": "ipython",
    "version": 3
   },
   "file_extension": ".py",
   "mimetype": "text/x-python",
   "name": "python",
   "nbconvert_exporter": "python",
   "pygments_lexer": "ipython3",
   "version": "3.13.7"
  }
 },
 "nbformat": 4,
 "nbformat_minor": 5
}

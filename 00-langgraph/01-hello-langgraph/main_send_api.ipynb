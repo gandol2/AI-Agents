{
 "cells": [
  {
   "cell_type": "code",
   "execution_count": 1,
   "id": "6bf483cb",
   "metadata": {},
   "outputs": [],
   "source": [
    "from langgraph.graph import StateGraph, START, END\n",
    "from typing_extensions import TypedDict, Annotated\n",
    "from langgraph.types import Send\n",
    "import operator"
   ]
  },
  {
   "cell_type": "code",
   "execution_count": 2,
   "id": "d5126002",
   "metadata": {},
   "outputs": [],
   "source": [
    "from typing import Union\n",
    "\n",
    "class State(TypedDict):\n",
    "    words: list[str]\n",
    "    output: Annotated[list[dict[str, Union[str, int]]], operator.add]\n",
    "\n",
    "graph_builder = StateGraph(State)"
   ]
  },
  {
   "cell_type": "code",
   "execution_count": 3,
   "id": "cd34c6ac",
   "metadata": {},
   "outputs": [],
   "source": [
    "def node_1(state: State):\n",
    "    print(f\"I want to count {len(state['words'])} words in my state.\")\n",
    "\n",
    "def node_2(word: str):\n",
    "    return {\n",
    "        \"output\" : [\n",
    "            {\n",
    "                \"word\": word,\n",
    "                \"letters\": len(word)\n",
    "            }\n",
    "        ]\n",
    "    }\n"
   ]
  },
  {
   "cell_type": "code",
   "execution_count": 4,
   "id": "9ad2cc8e",
   "metadata": {},
   "outputs": [
    {
     "data": {
      "text/plain": [
       "<langgraph.graph.state.StateGraph at 0x71bc352a2ba0>"
      ]
     },
     "execution_count": 4,
     "metadata": {},
     "output_type": "execute_result"
    }
   ],
   "source": [
    "graph_builder.add_node(\"node_1\", node_1)\n",
    "graph_builder.add_node(\"node_2\", node_2)\n",
    "\n",
    "def dispatcher_fn(state: State):\n",
    "    return [Send(\"node_2\", word) for word in state[\"words\"]]\n",
    "    # words = state[\"words\"]\n",
    "    # sends = []\n",
    "    # for word in words:\n",
    "    #     sends.append(Send(\"node_2\", word))    \n",
    "    # return sends\n",
    "    \n",
    "\n",
    "graph_builder.add_edge(START, \"node_1\")\n",
    "graph_builder.add_conditional_edges(\"node_1\", dispatcher_fn, [\"node_2\"])\n",
    "graph_builder.add_edge(\"node_2\", END)\n"
   ]
  },
  {
   "cell_type": "code",
   "execution_count": 5,
   "id": "260208cb",
   "metadata": {},
   "outputs": [
    {
     "name": "stdout",
     "output_type": "stream",
     "text": [
      "I want to count 6 words in my state.\n"
     ]
    },
    {
     "data": {
      "text/plain": [
       "{'words': ['hello', 'world', 'how', 'are', 'you', 'doing'],\n",
       " 'output': [{'word': 'hello', 'letters': 5},\n",
       "  {'word': 'world', 'letters': 5},\n",
       "  {'word': 'how', 'letters': 3},\n",
       "  {'word': 'are', 'letters': 3},\n",
       "  {'word': 'you', 'letters': 3},\n",
       "  {'word': 'doing', 'letters': 5}]}"
      ]
     },
     "execution_count": 5,
     "metadata": {},
     "output_type": "execute_result"
    }
   ],
   "source": [
    "\n",
    "\n",
    "graph = graph_builder.compile()\n",
    "\n",
    "graph.invoke({\"words\": [\"hello\", \"world\", \"how\", \"are\", \"you\", \"doing\"]})\n",
    "\n",
    "\n"
   ]
  },
  {
   "cell_type": "code",
   "execution_count": 6,
   "id": "b94d0bc0",
   "metadata": {},
   "outputs": [
    {
     "data": {
      "image/png": "[encoded data removed]",
      "text/plain": [
       "<langgraph.graph.state.CompiledStateGraph object at 0x71bc352a3a10>"
      ]
     },
     "execution_count": 6,
     "metadata": {},
     "output_type": "execute_result"
    }
   ],
   "source": [
    "graph"
   ]
  }
 ],
 "metadata": {
  "kernelspec": {
   "display_name": ".venv",
   "language": "python",
   "name": "python3"
  },
  "language_info": {
   "codemirror_mode": {
    "name": "ipython",
    "version": 3
   },
   "file_extension": ".py",
   "mimetype": "text/x-python",
   "name": "python",
   "nbconvert_exporter": "python",
   "pygments_lexer": "ipython3",
   "version": "3.13.7"
  }
 },
 "nbformat": 4,
 "nbformat_minor": 5
}

{
 "cells": [
  {
   "cell_type": "code",
   "execution_count": null,
   "id": "6bf483cb",
   "metadata": {},
   "outputs": [],
   "source": [
    "from langgraph.graph import StateGraph, START, END\n",
    "from typing_extensions import TypedDict\n",
    "from typing import Annotated\n",
    "import operator\n"
   ]
  },
  {
   "cell_type": "code",
   "execution_count": null,
   "id": "d5126002",
   "metadata": {},
   "outputs": [],
   "source": [
    "def update_fn(old, new):\n",
    "    return old + new\n",
    "\n",
    "class State(TypedDict):\n",
    "    # messages: Annotated[list[str], update_fn]\n",
    "    messages: Annotated[list[str], operator.add]\n",
    "\n",
    "graph_builder = StateGraph(State)"
   ]
  },
  {
   "cell_type": "code",
   "execution_count": 3,
   "id": "cd34c6ac",
   "metadata": {},
   "outputs": [],
   "source": [
    "def node_1(state: State):\n",
    "    last_message = state[\"messages\"][-1]\n",
    "    # print(\"node_1 : \" , state)\n",
    "    return {\n",
    "        \"messages\": [\"안녕하세요. 성식님\"]\n",
    "    }\n",
    "\n",
    "def node_2(state: State):\n",
    "    print(\"node_2 : \" , state)\n",
    "    return {\n",
    "        \"a\": 1\n",
    "    }\n",
    "\n",
    "def node_3(state: State):\n",
    "    print(\"node_3 : \" , state)\n",
    "    return {\n",
    "        \"b\" : 1\n",
    "    }\n"
   ]
  },
  {
   "cell_type": "code",
   "execution_count": 4,
   "id": "9ad2cc8e",
   "metadata": {},
   "outputs": [
    {
     "data": {
      "text/plain": [
       "<langgraph.graph.state.StateGraph at 0x7964af8fc6e0>"
      ]
     },
     "execution_count": 4,
     "metadata": {},
     "output_type": "execute_result"
    }
   ],
   "source": [
    "graph_builder.add_node(\"node_1\", node_1)\n",
    "graph_builder.add_node(\"node_2\", node_2)\n",
    "graph_builder.add_node(\"node_3\", node_3)\n",
    "\n",
    "\n",
    "graph_builder.add_edge(START, \"node_1\")\n",
    "graph_builder.add_edge(\"node_1\", \"node_2\")\n",
    "graph_builder.add_edge(\"node_2\", \"node_3\")\n",
    "graph_builder.add_edge(\"node_3\", END)\n",
    "\n",
    "\n",
    "\n",
    "\n",
    "\n",
    "# graph.invoke({\"hello\": \"world\"})\n",
    "\n",
    "\n"
   ]
  },
  {
   "cell_type": "code",
   "execution_count": 5,
   "id": "260208cb",
   "metadata": {},
   "outputs": [
    {
     "name": "stdout",
     "output_type": "stream",
     "text": [
      "node_2 :  {'messages': ['hello', '안녕하세요. 성식님']}\n",
      "node_3 :  {'messages': ['hello', '안녕하세요. 성식님']}\n",
      "final :  {'messages': ['hello', '안녕하세요. 성식님']}\n"
     ]
    }
   ],
   "source": [
    "graph = graph_builder.compile()\n",
    "\n",
    "result = graph.invoke(\n",
    "        {\n",
    "            \"messages\": [\"hello\"]\n",
    "        }\n",
    "    )\n",
    "\n",
    "print(\"final : \" ,result)"
   ]
  }
 ],
 "metadata": {
  "kernelspec": {
   "display_name": ".venv",
   "language": "python",
   "name": "python3"
  },
  "language_info": {
   "codemirror_mode": {
    "name": "ipython",
    "version": 3
   },
   "file_extension": ".py",
   "mimetype": "text/x-python",
   "name": "python",
   "nbconvert_exporter": "python",
   "pygments_lexer": "ipython3",
   "version": "3.13.7"
  }
 },
 "nbformat": 4,
 "nbformat_minor": 5
}

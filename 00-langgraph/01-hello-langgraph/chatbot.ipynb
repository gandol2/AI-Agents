{
 "cells": [
  {
   "cell_type": "code",
   "execution_count": 1,
   "id": "6bf483cb",
   "metadata": {},
   "outputs": [],
   "source": [
    "import sqlite3\n",
    "from langgraph.graph import StateGraph, START, END\n",
    "from typing_extensions import TypedDict\n",
    "from langchain.chat_models import init_chat_model\n",
    "from langchain_core.messages import AnyMessage\n",
    "from langgraph.graph.message import add_messages, MessagesState\n",
    "from typing import Annotated\n",
    "from langgraph.prebuilt import ToolNode, tools_condition\n",
    "from langchain_core.tools import tool\n",
    "from langgraph.checkpoint.sqlite import SqliteSaver\n",
    "\n",
    "llm = init_chat_model(\"openai:gpt-4o-mini\")\n",
    "\n",
    "conn = sqlite3.connect(\"memory.db\", check_same_thread=False)\n",
    "\n",
    "# llm.invoke([{\n",
    "#     \"role\": \"user\",\n",
    "#     \"content\": \"hi!\"\n",
    "# }])"
   ]
  },
  {
   "cell_type": "code",
   "execution_count": 2,
   "id": "d5126002",
   "metadata": {},
   "outputs": [],
   "source": [
    "# class State(TypedDict):\n",
    "#     messages: Annotated[list[AnyMessage], add_messages]\n",
    "\n",
    "class State(MessagesState):\n",
    "    pass\n",
    "\n",
    "graph_builder = StateGraph(State)"
   ]
  },
  {
   "cell_type": "code",
   "execution_count": 3,
   "id": "cd34c6ac",
   "metadata": {},
   "outputs": [],
   "source": [
    "@tool\n",
    "def get_weather(city: str) -> str:\n",
    "    \"\"\"Get the weather in a given city\"\"\"\n",
    "    return f\"The weather in {city} is sunny\"\n",
    "\n",
    "\n",
    "llm_with_tools = llm.bind_tools(tools=[get_weather])\n",
    "\n",
    "\n",
    "def chatbot(state: State):\n",
    "    response = llm_with_tools.invoke(state[\"messages\"])\n",
    "    return {\n",
    "        \"messages\": [response]\n",
    "    }\n"
   ]
  },
  {
   "cell_type": "code",
   "execution_count": 4,
   "id": "260208cb",
   "metadata": {},
   "outputs": [],
   "source": [
    "tool_node = ToolNode(\n",
    "    tools=[\n",
    "        get_weather,\n",
    "    ]\n",
    ")\n",
    "\n",
    "graph_builder.add_node(\"chatbot\", chatbot)\n",
    "graph_builder.add_node(\"tools\", tool_node)\n",
    "\n",
    "graph_builder.add_edge(START, \"chatbot\")\n",
    "graph_builder.add_conditional_edges(\"chatbot\", tools_condition)\n",
    "graph_builder.add_edge(\"tools\", \"chatbot\")\n",
    "# graph_builder.add_edge(\"chatbot\", END)\n",
    "\n",
    "graph = graph_builder.compile(\n",
    "    checkpointer=SqliteSaver(conn)\n",
    ")"
   ]
  },
  {
   "cell_type": "code",
   "execution_count": 5,
   "id": "b94d0bc0",
   "metadata": {},
   "outputs": [
    {
     "data": {
      "text/plain": [
       "{'messages': [HumanMessage(content='안녕 난 성식이야.  부산의 오늘 날씨를 알려줘', additional_kwargs={}, response_metadata={}, id='4fa6cebd-4fc4-4cea-a542-bf1f4d3ff18e'),\n",
       "  AIMessage(content='', additional_kwargs={'tool_calls': [{'id': 'call_lar9Ggq2QW6apALtNJJ5Qchq', 'function': {'arguments': '{\"city\":\"부산\"}', 'name': 'get_weather'}, 'type': 'function'}], 'refusal': None}, response_metadata={'token_usage': {'completion_tokens': 15, 'prompt_tokens': 62, 'total_tokens': 77, 'completion_tokens_details': {'accepted_prediction_tokens': 0, 'audio_tokens': 0, 'reasoning_tokens': 0, 'rejected_prediction_tokens': 0}, 'prompt_tokens_details': {'audio_tokens': 0, 'cached_tokens': 0}}, 'model_name': 'gpt-4o-mini-2024-07-18', 'system_fingerprint': 'fp_560af6e559', 'id': 'chatcmpl-CPpvG9arMABGzY8GIuCApM8EI3Hzs', 'service_tier': 'default', 'finish_reason': 'tool_calls', 'logprobs': None}, id='run--f65f8206-a0cd-426e-a215-c8be2dd2c4d7-0', tool_calls=[{'name': 'get_weather', 'args': {'city': '부산'}, 'id': 'call_lar9Ggq2QW6apALtNJJ5Qchq', 'type': 'tool_call'}], usage_metadata={'input_tokens': 62, 'output_tokens': 15, 'total_tokens': 77, 'input_token_details': {'audio': 0, 'cache_read': 0}, 'output_token_details': {'audio': 0, 'reasoning': 0}}),\n",
       "  ToolMessage(content='The weather in 부산 is sunny', name='get_weather', id='d880de55-ea98-45bc-b748-7d2d7c545c26', tool_call_id='call_lar9Ggq2QW6apALtNJJ5Qchq'),\n",
       "  AIMessage(content='안녕 성식아! 부산의 오늘 날씨는 맑아. 다른 정보가 필요하면 말해 줘!', additional_kwargs={'refusal': None}, response_metadata={'token_usage': {'completion_tokens': 27, 'prompt_tokens': 91, 'total_tokens': 118, 'completion_tokens_details': {'accepted_prediction_tokens': 0, 'audio_tokens': 0, 'reasoning_tokens': 0, 'rejected_prediction_tokens': 0}, 'prompt_tokens_details': {'audio_tokens': 0, 'cached_tokens': 0}}, 'model_name': 'gpt-4o-mini-2024-07-18', 'system_fingerprint': 'fp_560af6e559', 'id': 'chatcmpl-CPpvIIHqbaGtloz66VQwBH8pp1FQ0', 'service_tier': 'default', 'finish_reason': 'stop', 'logprobs': None}, id='run--e67cfc18-6c57-4c5d-9ac0-66eb76a2e841-0', usage_metadata={'input_tokens': 91, 'output_tokens': 27, 'total_tokens': 118, 'input_token_details': {'audio': 0, 'cache_read': 0}, 'output_token_details': {'audio': 0, 'reasoning': 0}})]}"
      ]
     },
     "execution_count": 5,
     "metadata": {},
     "output_type": "execute_result"
    }
   ],
   "source": [
    "graph.invoke(\n",
    "    {\n",
    "        \"messages\": [\n",
    "            {\n",
    "                \"role\": \"user\",\n",
    "                \"content\": \"안녕 난 성식이야.  부산의 오늘 날씨를 알려줘\"\n",
    "            }\n",
    "        ]\n",
    "    },\n",
    "    config={\n",
    "        \"configurable\":{\n",
    "            \"thread_id\": \"1\"\n",
    "        }\n",
    "\n",
    "    }\n",
    ")"
   ]
  },
  {
   "cell_type": "code",
   "execution_count": null,
   "id": "11d5d4e6",
   "metadata": {},
   "outputs": [],
   "source": [
    "graph.invoke(\n",
    "    {\n",
    "        \"messages\": [\n",
    "            {\n",
    "                \"role\": \"user\",\n",
    "                \"content\": \"내가 물어본곳이 어디었지?\"\n",
    "            }\n",
    "        ]\n",
    "    },\n",
    "    config={\n",
    "        \"configurable\":{\n",
    "            \"thread_id\": \"1\"\n",
    "        }\n",
    "\n",
    "    }\n",
    ")"
   ]
  },
  {
   "cell_type": "code",
   "execution_count": 6,
   "id": "14fca776",
   "metadata": {},
   "outputs": [
    {
     "name": "stdout",
     "output_type": "stream",
     "text": [
      "        +-----------+         \n",
      "        | __start__ |         \n",
      "        +-----------+         \n",
      "               *              \n",
      "               *              \n",
      "               *              \n",
      "          +---------+         \n",
      "          | chatbot |         \n",
      "          +---------+         \n",
      "          .         .         \n",
      "        ..           ..       \n",
      "       .               .      \n",
      "+---------+         +-------+ \n",
      "| __end__ |         | tools | \n",
      "+---------+         +-------+ \n"
     ]
    }
   ],
   "source": [
    "print(graph.get_graph().draw_ascii())"
   ]
  }
 ],
 "metadata": {
  "kernelspec": {
   "display_name": ".venv",
   "language": "python",
   "name": "python3"
  },
  "language_info": {
   "codemirror_mode": {
    "name": "ipython",
    "version": 3
   },
   "file_extension": ".py",
   "mimetype": "text/x-python",
   "name": "python",
   "nbconvert_exporter": "python",
   "pygments_lexer": "ipython3",
   "version": "3.13.7"
  }
 },
 "nbformat": 4,
 "nbformat_minor": 5
}

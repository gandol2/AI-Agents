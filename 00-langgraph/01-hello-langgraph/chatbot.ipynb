{
 "cells": [
  {
   "cell_type": "code",
   "execution_count": null,
   "id": "6bf483cb",
   "metadata": {},
   "outputs": [],
   "source": [
    "import sqlite3\n",
    "from langgraph.graph import StateGraph, START, END\n",
    "from typing_extensions import TypedDict\n",
    "from langchain.chat_models import init_chat_model\n",
    "from langchain_core.messages import AnyMessage\n",
    "from langgraph.graph.message import add_messages, MessagesState\n",
    "from typing import Annotated\n",
    "from langgraph.prebuilt import ToolNode, tools_condition\n",
    "from langchain_core.tools import tool\n",
    "from langgraph.checkpoint.sqlite import SqliteSaver\n",
    "from langgraph.types import interrupt\n",
    "\n",
    "llm = init_chat_model(\"openai:gpt-4o-mini\")\n",
    "\n",
    "conn = sqlite3.connect(\"memory.db\", check_same_thread=False)\n",
    "\n",
    "config = {\n",
    "    \"configurable\": {\n",
    "        \"thread_id\": \"4\",\n",
    "    },\n",
    "}\n",
    "\n",
    "# llm.invoke([{\n",
    "#     \"role\": \"user\",\n",
    "#     \"content\": \"hi!\"\n",
    "# }])"
   ]
  },
  {
   "cell_type": "code",
   "execution_count": 8,
   "id": "d5126002",
   "metadata": {},
   "outputs": [],
   "source": [
    "# class State(TypedDict):\n",
    "#     messages: Annotated[list[AnyMessage], add_messages]\n",
    "\n",
    "class State(MessagesState):\n",
    "    pass\n",
    "\n",
    "graph_builder = StateGraph(State)"
   ]
  },
  {
   "cell_type": "code",
   "execution_count": null,
   "id": "cd34c6ac",
   "metadata": {},
   "outputs": [],
   "source": [
    "@tool\n",
    "def get_human_feedback(poem: str) -> str:\n",
    "    \"\"\"\n",
    "        Asks the user for feedback on the poem\n",
    "        Use this before returning the final response\n",
    "    \"\"\"\n",
    "    feedback = interrupt(f\"Please provide feedback on the poem\\n{poem}\")\n",
    "    return feedback\n",
    "\n",
    "\n",
    "llm_with_tools = llm.bind_tools(tools=[get_human_feedback])\n",
    "\n",
    "\n",
    "def chatbot(state: State):\n",
    "    response = llm_with_tools.invoke(f\"\"\"\n",
    "    당신은 시를 만드는 전문가 입니다. \n",
    "\n",
    "    'get_human_feedback' 함수를 사용해서 시에 대한 피드백을 받으세요.\n",
    "\n",
    "    긍정적인 피드백을 받은 후에만 완성된 만들어주세요.\n",
    "\n",
    "    항상 피드백을 받으세요.\n",
    "\n",
    "    이건 지난 대화 기록 입니다 : \n",
    "    {state[\"messages\"]}\n",
    "\n",
    "    \"\"\")\n",
    "    return {\n",
    "        \"messages\": [response]\n",
    "    }\n"
   ]
  },
  {
   "cell_type": "code",
   "execution_count": 10,
   "id": "260208cb",
   "metadata": {},
   "outputs": [],
   "source": [
    "tool_node = ToolNode(\n",
    "    tools=[\n",
    "        get_human_feedback,\n",
    "    ]\n",
    ")\n",
    "\n",
    "graph_builder.add_node(\"chatbot\", chatbot)\n",
    "graph_builder.add_node(\"tools\", tool_node)\n",
    "\n",
    "graph_builder.add_edge(START, \"chatbot\")\n",
    "graph_builder.add_conditional_edges(\"chatbot\", tools_condition)\n",
    "graph_builder.add_edge(\"tools\", \"chatbot\")\n",
    "# graph_builder.add_edge(\"chatbot\", END)\n",
    "\n",
    "graph = graph_builder.compile(\n",
    "    checkpointer=SqliteSaver(conn)\n",
    ")"
   ]
  },
  {
   "cell_type": "code",
   "execution_count": 11,
   "id": "b94d0bc0",
   "metadata": {},
   "outputs": [],
   "source": [
    "result = graph.invoke(\n",
    "    {\n",
    "        \"messages\": [\n",
    "            {\n",
    "                \"role\": \"user\",\n",
    "                \"content\": \"제주도 여행을 주제로 짧은 시를 만들어줘. 음율(라임)을 최대한 살려서 감성적이고 멋지게 만들어줘. \"\n",
    "            }\n",
    "        ]\n",
    "    },\n",
    "    config=config,\n",
    ")"
   ]
  },
  {
   "cell_type": "code",
   "execution_count": 12,
   "id": "910eb602",
   "metadata": {},
   "outputs": [
    {
     "name": "stdout",
     "output_type": "stream",
     "text": [
      "================================\u001b[1m Human Message \u001b[0m=================================\n",
      "\n",
      "제주도 여행을 주제로 짧은 시를 만들어줘. 음율(라임)을 최대한 살려서 감성적이고 멋지게 만들어줘. \n",
      "==================================\u001b[1m Ai Message \u001b[0m==================================\n",
      "Tool Calls:\n",
      "  get_human_feedback (call_VAlRDV5ExXnsAP1Tn4LcbVCC)\n",
      " Call ID: call_VAlRDV5ExXnsAP1Tn4LcbVCC\n",
      "  Args:\n",
      "    poem: 푸른 바다에 물결 춤추고,\n",
      "제주 햇살에 마음이 부풀어.\n",
      "한라산 높이, 구름을 가르며,\n",
      "여행길에 행복이 물들어.\n",
      "\n",
      "오름을 넘어, 소리 없는 고요,\n",
      "바람에 실린, 제주 꿈이 흘러.\n",
      "섭지코지의 노을 아래,\n",
      "추억 속에 당신과 나의 미소.\n"
     ]
    }
   ],
   "source": [
    "for message in result[\"messages\"]:\n",
    "    message.pretty_print()"
   ]
  },
  {
   "cell_type": "code",
   "execution_count": 16,
   "id": "ea016eb8",
   "metadata": {},
   "outputs": [
    {
     "data": {
      "text/plain": [
       "('tools',)"
      ]
     },
     "execution_count": 16,
     "metadata": {},
     "output_type": "execute_result"
    }
   ],
   "source": [
    "snapshot = graph.get_state(config)\n",
    "\n",
    "snapshot.next"
   ]
  },
  {
   "cell_type": "code",
   "execution_count": 14,
   "id": "def81e81",
   "metadata": {},
   "outputs": [
    {
     "name": "stdout",
     "output_type": "stream",
     "text": [
      "================================\u001b[1m Human Message \u001b[0m=================================\n",
      "\n",
      "제주도 여행을 주제로 짧은 시를 만들어줘. 음율(라임)을 최대한 살려서 감성적이고 멋지게 만들어줘. \n",
      "==================================\u001b[1m Ai Message \u001b[0m==================================\n",
      "Tool Calls:\n",
      "  get_human_feedback (call_VAlRDV5ExXnsAP1Tn4LcbVCC)\n",
      " Call ID: call_VAlRDV5ExXnsAP1Tn4LcbVCC\n",
      "  Args:\n",
      "    poem: 푸른 바다에 물결 춤추고,\n",
      "제주 햇살에 마음이 부풀어.\n",
      "한라산 높이, 구름을 가르며,\n",
      "여행길에 행복이 물들어.\n",
      "\n",
      "오름을 넘어, 소리 없는 고요,\n",
      "바람에 실린, 제주 꿈이 흘러.\n",
      "섭지코지의 노을 아래,\n",
      "추억 속에 당신과 나의 미소.\n",
      "=================================\u001b[1m Tool Message \u001b[0m=================================\n",
      "Name: get_human_feedback\n",
      "\n",
      "좋아보여요\n",
      "==================================\u001b[1m Ai Message \u001b[0m==================================\n",
      "Tool Calls:\n",
      "  get_human_feedback (call_ljthvrKrrpzpueO463DIyNhk)\n",
      " Call ID: call_ljthvrKrrpzpueO463DIyNhk\n",
      "  Args:\n",
      "    poem: 푸른 바다에 물결 춤추고,\n",
      "제주 햇살에 마음이 부풀어.\n",
      "한라산 높이, 구름을 가르며,\n",
      "여행길에 행복이 물들어.\n",
      "\n",
      "오름을 넘어, 소리 없는 고요,\n",
      "바람에 실린, 제주 꿈이 흘러.\n",
      "섭지코지의 노을 아래,\n",
      "추억 속에 당신과 나의 미소.\n"
     ]
    }
   ],
   "source": [
    "from langgraph.types import Command\n",
    "\n",
    "use_cmd = Command(\n",
    "    resume=\"좋아보여요\"\n",
    ")\n",
    "\n",
    "result = graph.invoke(\n",
    "    use_cmd,\n",
    "    config=config,\n",
    ")\n",
    "\n",
    "for message in result[\"messages\"]:\n",
    "    message.pretty_print()"
   ]
  }
 ],
 "metadata": {
  "kernelspec": {
   "display_name": ".venv",
   "language": "python",
   "name": "python3"
  },
  "language_info": {
   "codemirror_mode": {
    "name": "ipython",
    "version": 3
   },
   "file_extension": ".py",
   "mimetype": "text/x-python",
   "name": "python",
   "nbconvert_exporter": "python",
   "pygments_lexer": "ipython3",
   "version": "3.13.7"
  }
 },
 "nbformat": 4,
 "nbformat_minor": 5
}

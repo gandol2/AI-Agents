{
 "cells": [
  {
   "cell_type": "code",
   "execution_count": 1,
   "id": "58e76bf0",
   "metadata": {},
   "outputs": [],
   "source": [
    "from langgraph.graph import StateGraph, START, END\n",
    "from typing_extensions import TypedDict"
   ]
  },
  {
   "cell_type": "code",
   "execution_count": 2,
   "id": "aff23c7d",
   "metadata": {},
   "outputs": [],
   "source": [
    "class PrivateState(TypedDict):\n",
    "    a: int\n",
    "    b: int    \n",
    "\n",
    "class InputState(TypedDict):\n",
    "    hello: str\n",
    "\n",
    "class OutputState(TypedDict):\n",
    "    bye: str\n",
    "\n",
    "class MegaPrivateState(TypedDict):\n",
    "    secret: bool\n",
    "\n",
    "graph_builder = StateGraph(PrivateState, input_schema=InputState, output_schema=OutputState)"
   ]
  },
  {
   "cell_type": "code",
   "execution_count": 3,
   "id": "67b932c4",
   "metadata": {},
   "outputs": [],
   "source": [
    "def node_1(state: InputState) -> InputState:\n",
    "    print(\"node_1 : \" , state)\n",
    "    return {\n",
    "        \"hello\": \"world\"\n",
    "    }\n",
    "\n",
    "def node_2(state: PrivateState) -> PrivateState:\n",
    "    print(\"node_2 : \" , state)\n",
    "    return {\n",
    "        \"a\": 1\n",
    "    }\n",
    "\n",
    "def node_3(state: PrivateState) -> PrivateState:\n",
    "    print(\"node_3 : \" , state)\n",
    "    return {\n",
    "        \"b\" : 1\n",
    "    }\n",
    "\n",
    "def node_4(state: PrivateState) -> OutputState:\n",
    "    print(\"node_4 : \" , state)\n",
    "    return {\n",
    "        \"bye\": \"world\"\n",
    "    }\n",
    "\n",
    "def node_5(state: OutputState):\n",
    "    return {\n",
    "        \"secret\" : True\n",
    "    }\n",
    "\n",
    "def node_6(state: MegaPrivateState):\n",
    "    print(state)\n",
    "\n"
   ]
  },
  {
   "cell_type": "code",
   "execution_count": 4,
   "id": "6ce18b65",
   "metadata": {},
   "outputs": [],
   "source": [
    "graph_builder.add_node(\"node_1\", node_1)\n",
    "graph_builder.add_node(\"node_2\", node_2)\n",
    "graph_builder.add_node(\"node_3\", node_3)\n",
    "graph_builder.add_node(\"node_4\", node_4)\n",
    "graph_builder.add_node(\"node_5\", node_5)\n",
    "graph_builder.add_node(\"node_6\", node_6)\n",
    "\n",
    "\n",
    "graph_builder.add_edge(START, \"node_1\")\n",
    "graph_builder.add_edge(\"node_1\", \"node_2\")\n",
    "graph_builder.add_edge(\"node_2\", \"node_3\")\n",
    "graph_builder.add_edge(\"node_3\", \"node_4\")\n",
    "graph_builder.add_edge(\"node_4\", \"node_5\")\n",
    "graph_builder.add_edge(\"node_5\", \"node_6\")\n",
    "graph_builder.add_edge(\"node_6\", END)\n",
    "\n",
    "graph = graph_builder.compile()\n",
    "\n",
    "\n",
    "\n",
    "# graph.invoke({\"hello\": \"world\"})\n",
    "\n",
    "\n"
   ]
  },
  {
   "cell_type": "code",
   "execution_count": 8,
   "id": "9dcfce05",
   "metadata": {},
   "outputs": [
    {
     "name": "stdout",
     "output_type": "stream",
     "text": [
      "node_1 :  {'hello': 'world'}\n",
      "node_2 :  {}\n",
      "node_3 :  {'a': 1}\n",
      "node_4 :  {'a': 1, 'b': 1}\n",
      "{'secret': True}\n",
      "final :  {'bye': 'world'}\n"
     ]
    }
   ],
   "source": [
    "result = graph.invoke({\"hello\": \"world\"})\n",
    "\n",
    "print(\"final : \" ,result)"
   ]
  },
  {
   "cell_type": "code",
   "execution_count": 6,
   "id": "01b77a38",
   "metadata": {},
   "outputs": [
    {
     "data": {
      "image/png": "[encoded data removed]",
      "text/plain": [
       "<langgraph.graph.state.CompiledStateGraph object at 0x7a9f80a9eba0>"
      ]
     },
     "execution_count": 6,
     "metadata": {},
     "output_type": "execute_result"
    }
   ],
   "source": [
    "graph"
   ]
  },
  {
   "cell_type": "code",
   "execution_count": 7,
   "id": "d80dc51c",
   "metadata": {},
   "outputs": [
    {
     "name": "stdout",
     "output_type": "stream",
     "text": [
      "+-----------+  \n",
      "| __start__ |  \n",
      "+-----------+  \n",
      "      *        \n",
      "      *        \n",
      "      *        \n",
      "  +--------+   \n",
      "  | node_1 |   \n",
      "  +--------+   \n",
      "      *        \n",
      "      *        \n",
      "      *        \n",
      "  +--------+   \n",
      "  | node_2 |   \n",
      "  +--------+   \n",
      "      *        \n",
      "      *        \n",
      "      *        \n",
      "  +--------+   \n",
      "  | node_3 |   \n",
      "  +--------+   \n",
      "      *        \n",
      "      *        \n",
      "      *        \n",
      "  +--------+   \n",
      "  | node_4 |   \n",
      "  +--------+   \n",
      "      *        \n",
      "      *        \n",
      "      *        \n",
      "  +--------+   \n",
      "  | node_5 |   \n",
      "  +--------+   \n",
      "      *        \n",
      "      *        \n",
      "      *        \n",
      "  +--------+   \n",
      "  | node_6 |   \n",
      "  +--------+   \n",
      "      *        \n",
      "      *        \n",
      "      *        \n",
      " +---------+   \n",
      " | __end__ |   \n",
      " +---------+   \n"
     ]
    }
   ],
   "source": [
    "print(graph.get_graph().draw_ascii())"
   ]
  }
 ],
 "metadata": {
  "kernelspec": {
   "display_name": ".venv",
   "language": "python",
   "name": "python3"
  },
  "language_info": {
   "codemirror_mode": {
    "name": "ipython",
    "version": 3
   },
   "file_extension": ".py",
   "mimetype": "text/x-python",
   "name": "python",
   "nbconvert_exporter": "python",
   "pygments_lexer": "ipython3",
   "version": "3.13.7"
  }
 },
 "nbformat": 4,
 "nbformat_minor": 5
}

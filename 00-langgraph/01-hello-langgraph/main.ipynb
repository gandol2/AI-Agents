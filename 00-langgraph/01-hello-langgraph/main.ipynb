{
 "cells": [
  {
   "cell_type": "code",
   "execution_count": 10,
   "id": "58e76bf0",
   "metadata": {},
   "outputs": [],
   "source": [
    "from langgraph.graph import StateGraph, START, END\n",
    "from typing_extensions import TypedDict"
   ]
  },
  {
   "cell_type": "code",
   "execution_count": 11,
   "id": "aff23c7d",
   "metadata": {},
   "outputs": [],
   "source": [
    "class State(TypedDict):\n",
    "    hello: str\n",
    "\n",
    "graph_builder = StateGraph(State)"
   ]
  },
  {
   "cell_type": "code",
   "execution_count": 12,
   "id": "67b932c4",
   "metadata": {},
   "outputs": [],
   "source": [
    "def node_1(state: State):\n",
    "    print(\"node_1 : \" , state)\n",
    "    return {\n",
    "        \"hello\": \"from node one.\"\n",
    "    }\n",
    "\n",
    "def node_2(state: State):\n",
    "    print(\"node_2 : \" , state)\n",
    "    return {\n",
    "        \"hello\": \"from node 2.\"\n",
    "    }\n",
    "\n",
    "def node_3(state: State):\n",
    "    print(\"node_3 : \" , state)\n",
    "    return {\n",
    "        \"hello\": \"from node 3.\"\n",
    "    }\n"
   ]
  },
  {
   "cell_type": "code",
   "execution_count": 13,
   "id": "6ce18b65",
   "metadata": {},
   "outputs": [],
   "source": [
    "graph_builder.add_node(\"node_1\", node_1)\n",
    "graph_builder.add_node(\"node_2\", node_2)\n",
    "graph_builder.add_node(\"node_3\", node_3)\n",
    "\n",
    "graph_builder.add_edge(START, \"node_1\")\n",
    "graph_builder.add_edge(\"node_1\", \"node_2\")\n",
    "graph_builder.add_edge(\"node_2\", \"node_3\")\n",
    "graph_builder.add_edge(\"node_3\", END)\n",
    "\n",
    "graph = graph_builder.compile()\n",
    "\n",
    "\n",
    "\n",
    "# graph.invoke({\"hello\": \"world\"})\n",
    "\n",
    "\n"
   ]
  },
  {
   "cell_type": "code",
   "execution_count": 14,
   "id": "9dcfce05",
   "metadata": {},
   "outputs": [
    {
     "name": "stdout",
     "output_type": "stream",
     "text": [
      "node_1 :  {'hello': 'world'}\n",
      "node_2 :  {'hello': 'from node one.'}\n",
      "node_3 :  {'hello': 'from node 2.'}\n",
      "{'hello': 'from node 3.'}\n"
     ]
    }
   ],
   "source": [
    "result = graph.invoke({\"hello\": \"world\"})\n",
    "\n",
    "print(result)"
   ]
  },
  {
   "cell_type": "code",
   "execution_count": 15,
   "id": "01b77a38",
   "metadata": {},
   "outputs": [
    {
     "data": {
      "image/png": "[encoded data removed]",
      "text/plain": [
       "<langgraph.graph.state.CompiledStateGraph object at 0x746635e77390>"
      ]
     },
     "execution_count": 15,
     "metadata": {},
     "output_type": "execute_result"
    }
   ],
   "source": [
    "graph"
   ]
  },
  {
   "cell_type": "code",
   "execution_count": null,
   "id": "d80dc51c",
   "metadata": {},
   "outputs": [
    {
     "name": "stdout",
     "output_type": "stream",
     "text": [
      "---\n",
      "config:\n",
      "  flowchart:\n",
      "    curve: linear\n",
      "---\n",
      "graph TD;\n",
      "\t__start__([<p>__start__</p>]):::first\n",
      "\tnode_1(node_1)\n",
      "\tnode_2(node_2)\n",
      "\tnode_3(node_3)\n",
      "\t__end__([<p>__end__</p>]):::last\n",
      "\t__start__ --> node_1;\n",
      "\tnode_1 --> node_2;\n",
      "\tnode_2 --> node_3;\n",
      "\tnode_3 --> __end__;\n",
      "\tclassDef default fill:#f2f0ff,line-height:1.2\n",
      "\tclassDef first fill-opacity:0\n",
      "\tclassDef last fill:#bfb6fc\n",
      "\n"
     ]
    }
   ],
   "source": [
    "print(graph.get_graph().draw_ascii())"
   ]
  }
 ],
 "metadata": {
  "kernelspec": {
   "display_name": ".venv",
   "language": "python",
   "name": "python3"
  },
  "language_info": {
   "codemirror_mode": {
    "name": "ipython",
    "version": 3
   },
   "file_extension": ".py",
   "mimetype": "text/x-python",
   "name": "python",
   "nbconvert_exporter": "python",
   "pygments_lexer": "ipython3",
   "version": "3.13.7"
  }
 },
 "nbformat": 4,
 "nbformat_minor": 5
}

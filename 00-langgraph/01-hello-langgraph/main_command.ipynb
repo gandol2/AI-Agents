{
 "cells": [
  {
   "cell_type": "code",
   "execution_count": 1,
   "id": "6bf483cb",
   "metadata": {},
   "outputs": [],
   "source": [
    "from langgraph.graph import StateGraph, START, END\n",
    "from typing_extensions import TypedDict, Annotated\n",
    "from langgraph.types import Command"
   ]
  },
  {
   "cell_type": "code",
   "execution_count": 2,
   "id": "d5126002",
   "metadata": {},
   "outputs": [],
   "source": [
    "class State(TypedDict):\n",
    "    transfer_reason: str\n",
    "\n",
    "graph_builder = StateGraph(State)"
   ]
  },
  {
   "cell_type": "code",
   "execution_count": null,
   "id": "cd34c6ac",
   "metadata": {},
   "outputs": [],
   "source": [
    "from typing import Literal\n",
    "\n",
    "\n",
    "def triage_node(state: State) -> Command[Literal[\"account_support\", \"tech_support\"]]:\n",
    "    return Command(\n",
    "        goto=\"account_support\",\n",
    "        update={\n",
    "            \"transfer_reason\": \"사용자가 비밀번호 변경을 요청하였습니다\"\n",
    "        },\n",
    "    )\n",
    "\n",
    "def tech_support(state: State):\n",
    "    print(f\"[tech_support] 고객님 안녕하세요. 기술지원 부서 입니다.\")\n",
    "    return {}\n",
    "\n",
    "def account_support(state: State):\n",
    "    print(f\"[account_support] 고객님 안녕하세요. 비밀번호 변경을 도와드리겠습니다.\")\n",
    "    return {}"
   ]
  },
  {
   "cell_type": "code",
   "execution_count": 4,
   "id": "9ad2cc8e",
   "metadata": {},
   "outputs": [
    {
     "data": {
      "text/plain": [
       "<langgraph.graph.state.StateGraph at 0x7a132fef46e0>"
      ]
     },
     "execution_count": 4,
     "metadata": {},
     "output_type": "execute_result"
    }
   ],
   "source": [
    "graph_builder.add_node(\"triage_node\", triage_node)\n",
    "graph_builder.add_node(\"tech_support\", tech_support)\n",
    "graph_builder.add_node(\"account_support\", account_support)\n",
    "    \n",
    "\n",
    "graph_builder.add_edge(START, \"triage_node\")\n",
    "graph_builder.add_edge(\"tech_support\", END)\n",
    "graph_builder.add_edge(\"account_support\", END)\n"
   ]
  },
  {
   "cell_type": "code",
   "execution_count": 5,
   "id": "260208cb",
   "metadata": {},
   "outputs": [],
   "source": [
    "\n",
    "\n",
    "graph = graph_builder.compile()\n",
    "\n",
    "# graph.invoke({\"words\": [\"hello\", \"world\", \"how\", \"are\", \"you\", \"doing\"]})\n",
    "\n",
    "\n"
   ]
  },
  {
   "cell_type": "code",
   "execution_count": 7,
   "id": "b94d0bc0",
   "metadata": {},
   "outputs": [
    {
     "name": "stdout",
     "output_type": "stream",
     "text": [
      "[account_support] 고객님 안녕하세요. 비밀번호 변경을 도와드리겠습니다.\n"
     ]
    },
    {
     "data": {
      "text/plain": [
       "{'transfer_reason': '사용자가 비밀번호 변경을 요청하였습니다'}"
      ]
     },
     "execution_count": 7,
     "metadata": {},
     "output_type": "execute_result"
    }
   ],
   "source": [
    "graph.invoke({})"
   ]
  }
 ],
 "metadata": {
  "kernelspec": {
   "display_name": ".venv",
   "language": "python",
   "name": "python3"
  },
  "language_info": {
   "codemirror_mode": {
    "name": "ipython",
    "version": 3
   },
   "file_extension": ".py",
   "mimetype": "text/x-python",
   "name": "python",
   "nbconvert_exporter": "python",
   "pygments_lexer": "ipython3",
   "version": "3.13.7"
  }
 },
 "nbformat": 4,
 "nbformat_minor": 5
}
